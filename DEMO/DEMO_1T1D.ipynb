{
 "cells": [
  {
   "cell_type": "code",
   "execution_count": 1,
   "id": "9ae30bd3",
   "metadata": {},
   "outputs": [],
   "source": [
    "from DEMO_utils import *\n",
    "MODEL_PATH = 'models/KIBA_4.pth'\n",
    "model = load_model(MODEL_PATH)"
   ]
  },
  {
   "cell_type": "code",
   "execution_count": 2,
   "id": "94e4f135",
   "metadata": {},
   "outputs": [
    {
     "name": "stdout",
     "output_type": "stream",
     "text": [
      "0.8664997816085815\n"
     ]
    }
   ],
   "source": [
    "'''\n",
    "\"Kinase drug discovery 20 years after imatinib: progress and future directions\". Nat Rev Drug Discov 20, 551–569 (2021). \n",
    "https://doi.org/10.1038/s41573-021-00195-4\n",
    "'''\n",
    "gene = 'EGFR'\n",
    "# 1st generation\n",
    "drug = 'Gefitinib'\n",
    "KIBA_score = make_predictions(model, drug, gene)\n",
    "print (KIBA_score)"
   ]
  },
  {
   "cell_type": "code",
   "execution_count": 3,
   "id": "65245b55",
   "metadata": {},
   "outputs": [
    {
     "name": "stdout",
     "output_type": "stream",
     "text": [
      "0.9981169700622559\n"
     ]
    }
   ],
   "source": [
    "# 2nd Generation\n",
    "drug = 'Afatinib'\n",
    "KIBA_score = make_predictions(model, drug, gene)\n",
    "print (KIBA_score)"
   ]
  },
  {
   "cell_type": "code",
   "execution_count": 4,
   "id": "17e8a2ad",
   "metadata": {},
   "outputs": [
    {
     "name": "stdout",
     "output_type": "stream",
     "text": [
      "0.9281130433082581\n"
     ]
    }
   ],
   "source": [
    "# 3rd generation\n",
    "drug = 'Osimertinib'\n",
    "KIBA_score = make_predictions(model, drug, gene)\n",
    "print (KIBA_score)"
   ]
  },
  {
   "cell_type": "code",
   "execution_count": null,
   "id": "795f9276",
   "metadata": {},
   "outputs": [],
   "source": []
  }
 ],
 "metadata": {
  "kernelspec": {
   "display_name": "rdenv",
   "language": "python",
   "name": "rdenv"
  },
  "language_info": {
   "codemirror_mode": {
    "name": "ipython",
    "version": 3
   },
   "file_extension": ".py",
   "mimetype": "text/x-python",
   "name": "python",
   "nbconvert_exporter": "python",
   "pygments_lexer": "ipython3",
   "version": "3.9.7"
  }
 },
 "nbformat": 4,
 "nbformat_minor": 5
}
