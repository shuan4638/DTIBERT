{
 "cells": [
  {
   "cell_type": "code",
   "execution_count": 1,
   "metadata": {
    "id": "UqOrj1cT8IJy"
   },
   "outputs": [],
   "source": [
    "import numpy as np\n",
    "import time\n",
    "import sys\n",
    "\n",
    "sys.path.append('../')\n",
    "from DEMO_utils import *\n",
    "\n",
    "def predict(model, drug, targets, threshold = 0.1):\n",
    "    start = time.time()\n",
    "    preds, mol = make_predictions_1D3T(model, drug, targets)\n",
    "    df = print_results_1D3T(drug, preds, threshold)\n",
    "    print ('Predicting takes %s seconds' % (time.time()-start))\n",
    "    return df, mol"
   ]
  },
  {
   "cell_type": "code",
   "execution_count": 2,
   "metadata": {},
   "outputs": [],
   "source": [
    "MODEL_PATH = '../models/KIBA_4.pth'\n",
    "model = load_model(MODEL_PATH)"
   ]
  },
  {
   "cell_type": "code",
   "execution_count": 3,
   "metadata": {},
   "outputs": [
    {
     "name": "stdout",
     "output_type": "stream",
     "text": [
      "Predicting gefitinib on the following target genes\n",
      "['AAK1', 'ABL1', 'ABL2', 'AXL', 'CDK6', 'CDK9', 'CSK', 'EGFR', 'FYN', 'GAK', 'JAK1', 'JAK2', 'JAK3', 'KIT', 'LYN', 'RET', 'SRC', 'YES']\n"
     ]
    },
    {
     "name": "stderr",
     "output_type": "stream",
     "text": [
      "100%|███████████████████████████████████████████| 18/18 [00:00<00:00, 41.34it/s]"
     ]
    },
    {
     "name": "stdout",
     "output_type": "stream",
     "text": [
      "Selected 3/18 targets with possible DTI with drug gefitinib with threshold 0.5\n",
      "----------------------------------------------------------------------------------\n",
      "  Target    Score\n",
      "0   EGFR  0.88602\n",
      "1    YES  0.85085\n",
      "2    FYN  0.53077\n",
      "----------------------------------------------------------------------------------\n",
      "Predicting takes 1.6102828979492188 seconds\n"
     ]
    },
    {
     "name": "stderr",
     "output_type": "stream",
     "text": [
      "\n"
     ]
    },
    {
     "data": {
      "image/png": "[encoded data removed]",
      "text/plain": [
       "<rdkit.Chem.rdchem.Mol at 0x18d20f820>"
      ]
     },
     "execution_count": 3,
     "metadata": {},
     "output_type": "execute_result"
    }
   ],
   "source": [
    "drug = 'gefitinib'\n",
    "# drug = 'imatinib'\n",
    "targets = 'covids'\n",
    "results, mol = predict(model, drug, targets, 0.5)\n",
    "mol"
   ]
  }
 ],
 "metadata": {
  "colab": {
   "authorship_tag": "ABX9TyOblnN9NMK6n2w25a2a/VHN",
   "collapsed_sections": [],
   "name": "DEMO_1T3D.ipynb",
   "provenance": []
  },
  "kernelspec": {
   "display_name": "rdenv",
   "language": "python",
   "name": "rdenv"
  },
  "language_info": {
   "codemirror_mode": {
    "name": "ipython",
    "version": 3
   },
   "file_extension": ".py",
   "mimetype": "text/x-python",
   "name": "python",
   "nbconvert_exporter": "python",
   "pygments_lexer": "ipython3",
   "version": "3.9.7"
  }
 },
 "nbformat": 4,
 "nbformat_minor": 1
}
